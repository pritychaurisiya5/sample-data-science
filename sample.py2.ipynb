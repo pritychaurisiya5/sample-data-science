{
 "cells": [
  {
   "cell_type": "code",
   "execution_count": 1,
   "id": "2f851a86",
   "metadata": {},
   "outputs": [
    {
     "data": {
      "text/plain": [
       "[12, 56, 'hi', 89]"
      ]
     },
     "execution_count": 1,
     "metadata": {},
     "output_type": "execute_result"
    }
   ],
   "source": [
    "#here we have to create list\n",
    "sample_list=[12,56,\"hi\",89]\n",
    "sample_list"
   ]
  },
  {
   "cell_type": "code",
   "execution_count": 2,
   "id": "b1286142",
   "metadata": {},
   "outputs": [
    {
     "data": {
      "text/plain": [
       "list"
      ]
     },
     "execution_count": 2,
     "metadata": {},
     "output_type": "execute_result"
    }
   ],
   "source": [
    "#find the type of datastracure in python\n",
    "type(sample_list)"
   ]
  },
  {
   "cell_type": "code",
   "execution_count": 3,
   "id": "3d94fff6",
   "metadata": {},
   "outputs": [
    {
     "data": {
      "text/plain": [
       "12"
      ]
     },
     "execution_count": 3,
     "metadata": {},
     "output_type": "execute_result"
    }
   ],
   "source": [
    "sample_list[0]"
   ]
  },
  {
   "cell_type": "code",
   "execution_count": 4,
   "id": "4e5f75b6",
   "metadata": {},
   "outputs": [
    {
     "data": {
      "text/plain": [
       "89"
      ]
     },
     "execution_count": 4,
     "metadata": {},
     "output_type": "execute_result"
    }
   ],
   "source": [
    "sample_list[-1]"
   ]
  },
  {
   "cell_type": "code",
   "execution_count": 8,
   "id": "36588f98",
   "metadata": {},
   "outputs": [],
   "source": [
    "sample_list[0]=10"
   ]
  },
  {
   "cell_type": "code",
   "execution_count": 9,
   "id": "9a8a0ff0",
   "metadata": {},
   "outputs": [
    {
     "data": {
      "text/plain": [
       "[10, 56, 'hi', 89]"
      ]
     },
     "execution_count": 9,
     "metadata": {},
     "output_type": "execute_result"
    }
   ],
   "source": [
    "sample_list"
   ]
  },
  {
   "cell_type": "code",
   "execution_count": 10,
   "id": "264a498c",
   "metadata": {},
   "outputs": [
    {
     "ename": "IndexError",
     "evalue": "list index out of range",
     "output_type": "error",
     "traceback": [
      "\u001b[1;31m---------------------------------------------------------------------------\u001b[0m",
      "\u001b[1;31mIndexError\u001b[0m                                Traceback (most recent call last)",
      "Cell \u001b[1;32mIn[10], line 1\u001b[0m\n\u001b[1;32m----> 1\u001b[0m \u001b[43msample_list\u001b[49m\u001b[43m[\u001b[49m\u001b[38;5;241;43m8\u001b[39;49m\u001b[43m]\u001b[49m\n",
      "\u001b[1;31mIndexError\u001b[0m: list index out of range"
     ]
    }
   ],
   "source": [
    "sample_list[8]"
   ]
  },
  {
   "cell_type": "code",
   "execution_count": 11,
   "id": "c2a8bdf3",
   "metadata": {},
   "outputs": [
    {
     "data": {
      "text/plain": [
       "(60, 90, 'hello', 88, 0)"
      ]
     },
     "execution_count": 11,
     "metadata": {},
     "output_type": "execute_result"
    }
   ],
   "source": [
    "#here we have to create tuple\n",
    "#generally it is enclosed within parenthesis()\n",
    "#it is immutable#can retrive data using index\n",
    "#heterogenous\n",
    "sample_tuple=(60,90,\"hello\",88,0)\n",
    "sample_tuple"
   ]
  },
  {
   "cell_type": "code",
   "execution_count": 12,
   "id": "f5f7da0c",
   "metadata": {},
   "outputs": [
    {
     "data": {
      "text/plain": [
       "tuple"
      ]
     },
     "execution_count": 12,
     "metadata": {},
     "output_type": "execute_result"
    }
   ],
   "source": [
    "type(sample_tuple)"
   ]
  },
  {
   "cell_type": "code",
   "execution_count": 13,
   "id": "cd0ea235",
   "metadata": {},
   "outputs": [
    {
     "data": {
      "text/plain": [
       "60"
      ]
     },
     "execution_count": 13,
     "metadata": {},
     "output_type": "execute_result"
    }
   ],
   "source": [
    "sample_tuple[0]"
   ]
  },
  {
   "cell_type": "code",
   "execution_count": 14,
   "id": "df981100",
   "metadata": {},
   "outputs": [
    {
     "data": {
      "text/plain": [
       "88"
      ]
     },
     "execution_count": 14,
     "metadata": {},
     "output_type": "execute_result"
    }
   ],
   "source": [
    "sample_tuple[-2]"
   ]
  },
  {
   "cell_type": "code",
   "execution_count": 15,
   "id": "4b6d86ef",
   "metadata": {},
   "outputs": [
    {
     "data": {
      "text/plain": [
       "(60, 90, 'hello')"
      ]
     },
     "execution_count": 15,
     "metadata": {},
     "output_type": "execute_result"
    }
   ],
   "source": [
    "sample_tuple[0:3]"
   ]
  },
  {
   "cell_type": "code",
   "execution_count": 16,
   "id": "366cf07b",
   "metadata": {},
   "outputs": [
    {
     "ename": "IndexError",
     "evalue": "tuple index out of range",
     "output_type": "error",
     "traceback": [
      "\u001b[1;31m---------------------------------------------------------------------------\u001b[0m",
      "\u001b[1;31mIndexError\u001b[0m                                Traceback (most recent call last)",
      "Cell \u001b[1;32mIn[16], line 1\u001b[0m\n\u001b[1;32m----> 1\u001b[0m \u001b[43msample_tuple\u001b[49m\u001b[43m[\u001b[49m\u001b[38;5;241;43m10\u001b[39;49m\u001b[43m]\u001b[49m\n",
      "\u001b[1;31mIndexError\u001b[0m: tuple index out of range"
     ]
    }
   ],
   "source": [
    "sample_tuple[10]"
   ]
  },
  {
   "cell_type": "code",
   "execution_count": 17,
   "id": "bd31bf66",
   "metadata": {},
   "outputs": [
    {
     "ename": "TypeError",
     "evalue": "'tuple' object does not support item assignment",
     "output_type": "error",
     "traceback": [
      "\u001b[1;31m---------------------------------------------------------------------------\u001b[0m",
      "\u001b[1;31mTypeError\u001b[0m                                 Traceback (most recent call last)",
      "Cell \u001b[1;32mIn[17], line 1\u001b[0m\n\u001b[1;32m----> 1\u001b[0m sample_tuple[\u001b[38;5;241m2\u001b[39m]\u001b[38;5;241m=\u001b[39m\u001b[38;5;241m99\u001b[39m\n\u001b[0;32m      2\u001b[0m sample_list\n",
      "\u001b[1;31mTypeError\u001b[0m: 'tuple' object does not support item assignment"
     ]
    }
   ],
   "source": [
    "sample_tuple[2]=99\n",
    "sample_list"
   ]
  },
  {
   "cell_type": "code",
   "execution_count": 19,
   "id": "0bbf100c",
   "metadata": {},
   "outputs": [
    {
     "data": {
      "text/plain": [
       "{23, 45, 88, 90, 'apple', 'hello', 'kite', 'lion'}"
      ]
     },
     "execution_count": 19,
     "metadata": {},
     "output_type": "execute_result"
    }
   ],
   "source": [
    "#now let us we have to go head with another which is set\n",
    "sample_set={88,90,45,23,\"apple\",\"kite\",\"lion\",88,\"hello\"}\n",
    "sample_set"
   ]
  },
  {
   "cell_type": "code",
   "execution_count": 21,
   "id": "6c6aedb2",
   "metadata": {},
   "outputs": [
    {
     "ename": "TypeError",
     "evalue": "'set' object is not subscriptable",
     "output_type": "error",
     "traceback": [
      "\u001b[1;31m---------------------------------------------------------------------------\u001b[0m",
      "\u001b[1;31mTypeError\u001b[0m                                 Traceback (most recent call last)",
      "Cell \u001b[1;32mIn[21], line 1\u001b[0m\n\u001b[1;32m----> 1\u001b[0m \u001b[43msample_set\u001b[49m\u001b[43m[\u001b[49m\u001b[38;5;241;43m0\u001b[39;49m\u001b[43m]\u001b[49m\n",
      "\u001b[1;31mTypeError\u001b[0m: 'set' object is not subscriptable"
     ]
    }
   ],
   "source": [
    "sample_set[0]"
   ]
  },
  {
   "cell_type": "markdown",
   "id": "0eb8ce26",
   "metadata": {},
   "source": [
    "sample_set"
   ]
  },
  {
   "cell_type": "code",
   "execution_count": 22,
   "id": "f0ebfb10",
   "metadata": {},
   "outputs": [
    {
     "data": {
      "text/plain": [
       "set"
      ]
     },
     "execution_count": 22,
     "metadata": {},
     "output_type": "execute_result"
    }
   ],
   "source": [
    "type(sample_set)"
   ]
  },
  {
   "cell_type": "code",
   "execution_count": 23,
   "id": "864db323",
   "metadata": {},
   "outputs": [
    {
     "ename": "TypeError",
     "evalue": "'set' object does not support item assignment",
     "output_type": "error",
     "traceback": [
      "\u001b[1;31m---------------------------------------------------------------------------\u001b[0m",
      "\u001b[1;31mTypeError\u001b[0m                                 Traceback (most recent call last)",
      "Cell \u001b[1;32mIn[23], line 1\u001b[0m\n\u001b[1;32m----> 1\u001b[0m sample_set[\u001b[38;5;241m1\u001b[39m]\u001b[38;5;241m=\u001b[39m\u001b[38;5;241m55\u001b[39m\n",
      "\u001b[1;31mTypeError\u001b[0m: 'set' object does not support item assignment"
     ]
    }
   ],
   "source": [
    "sample_set[1]=55"
   ]
  },
  {
   "cell_type": "code",
   "execution_count": 24,
   "id": "17b04ed0",
   "metadata": {},
   "outputs": [],
   "source": [
    "sample_set.remove(90)"
   ]
  },
  {
   "cell_type": "code",
   "execution_count": 25,
   "id": "552997f8",
   "metadata": {},
   "outputs": [
    {
     "data": {
      "text/plain": [
       "{23, 45, 88, 'apple', 'hello', 'kite', 'lion'}"
      ]
     },
     "execution_count": 25,
     "metadata": {},
     "output_type": "execute_result"
    }
   ],
   "source": [
    "sample_set"
   ]
  },
  {
   "cell_type": "code",
   "execution_count": 26,
   "id": "49942866",
   "metadata": {},
   "outputs": [],
   "source": [
    "sample_set.add(50000)"
   ]
  },
  {
   "cell_type": "code",
   "execution_count": 27,
   "id": "d17d81e2",
   "metadata": {},
   "outputs": [
    {
     "data": {
      "text/plain": [
       "{23, 45, 50000, 88, 'apple', 'hello', 'kite', 'lion'}"
      ]
     },
     "execution_count": 27,
     "metadata": {},
     "output_type": "execute_result"
    }
   ],
   "source": [
    "sample_set"
   ]
  },
  {
   "cell_type": "code",
   "execution_count": 28,
   "id": "a2c17b8a",
   "metadata": {},
   "outputs": [],
   "source": [
    "sample_set.remove(\"hello\")"
   ]
  },
  {
   "cell_type": "code",
   "execution_count": 30,
   "id": "537d639a",
   "metadata": {},
   "outputs": [
    {
     "data": {
      "text/plain": [
       "{23, 45, 50000, 88, 'apple', 'kite', 'lion'}"
      ]
     },
     "execution_count": 30,
     "metadata": {},
     "output_type": "execute_result"
    }
   ],
   "source": [
    "sample_set"
   ]
  },
  {
   "cell_type": "code",
   "execution_count": 32,
   "id": "7199dd8b",
   "metadata": {},
   "outputs": [
    {
     "data": {
      "text/plain": [
       "{1: 'apple', 2: 88, 3: 'king', 4: 'hi', 5: 33.9}"
      ]
     },
     "execution_count": 32,
     "metadata": {},
     "output_type": "execute_result"
    }
   ],
   "source": [
    "sample_dict={1:\"apple\",2:88,3:\"king\",4:\"hi\",5:33.9}\n",
    "sample_dict"
   ]
  },
  {
   "cell_type": "code",
   "execution_count": 33,
   "id": "e8624384",
   "metadata": {},
   "outputs": [
    {
     "data": {
      "text/plain": [
       "33.9"
      ]
     },
     "execution_count": 33,
     "metadata": {},
     "output_type": "execute_result"
    }
   ],
   "source": [
    "sample_dict[5]"
   ]
  },
  {
   "cell_type": "markdown",
   "id": "2d51b5e6",
   "metadata": {},
   "source": [
    "sample_dict[1]"
   ]
  },
  {
   "cell_type": "code",
   "execution_count": 34,
   "id": "c96c1bc4",
   "metadata": {},
   "outputs": [
    {
     "data": {
      "text/plain": [
       "'apple'"
      ]
     },
     "execution_count": 34,
     "metadata": {},
     "output_type": "execute_result"
    }
   ],
   "source": [
    "sample_dict[1]"
   ]
  },
  {
   "cell_type": "code",
   "execution_count": 35,
   "id": "c1bc0840",
   "metadata": {},
   "outputs": [
    {
     "ename": "KeyError",
     "evalue": "'king'",
     "output_type": "error",
     "traceback": [
      "\u001b[1;31m---------------------------------------------------------------------------\u001b[0m",
      "\u001b[1;31mKeyError\u001b[0m                                  Traceback (most recent call last)",
      "Cell \u001b[1;32mIn[35], line 1\u001b[0m\n\u001b[1;32m----> 1\u001b[0m \u001b[43msample_dict\u001b[49m\u001b[43m[\u001b[49m\u001b[38;5;124;43m\"\u001b[39;49m\u001b[38;5;124;43mking\u001b[39;49m\u001b[38;5;124;43m\"\u001b[39;49m\u001b[43m]\u001b[49m\n",
      "\u001b[1;31mKeyError\u001b[0m: 'king'"
     ]
    }
   ],
   "source": [
    "sample_dict[\"king\"]"
   ]
  },
  {
   "cell_type": "code",
   "execution_count": 36,
   "id": "3fe42978",
   "metadata": {},
   "outputs": [
    {
     "data": {
      "text/plain": [
       "33.9"
      ]
     },
     "execution_count": 36,
     "metadata": {},
     "output_type": "execute_result"
    }
   ],
   "source": [
    "sample_dict[5]"
   ]
  },
  {
   "cell_type": "markdown",
   "id": "be26fe7a",
   "metadata": {},
   "source": []
  },
  {
   "cell_type": "code",
   "execution_count": 38,
   "id": "ec9c0c1d",
   "metadata": {},
   "outputs": [
    {
     "data": {
      "text/plain": [
       "{1: 'apple', 2: 88, 3: 'king', 4: 'hi', 5: 33.9, 6: 'business'}"
      ]
     },
     "execution_count": 38,
     "metadata": {},
     "output_type": "execute_result"
    }
   ],
   "source": [
    "sample_dict[6]=\"business\"\n",
    "sample_dict"
   ]
  },
  {
   "cell_type": "markdown",
   "id": "56781e5f",
   "metadata": {},
   "source": []
  },
  {
   "cell_type": "code",
   "execution_count": 39,
   "id": "9c5a4134",
   "metadata": {},
   "outputs": [
    {
     "data": {
      "text/plain": [
       "{1: 'apple', 2: 88, 3: 'king', 4: 'hi', 5: 33.9, 6: 'business', 7: 10000}"
      ]
     },
     "execution_count": 39,
     "metadata": {},
     "output_type": "execute_result"
    }
   ],
   "source": [
    "sample_dict[7]=10000\n",
    "sample_dict"
   ]
  },
  {
   "cell_type": "code",
   "execution_count": null,
   "id": "584d6b26",
   "metadata": {},
   "outputs": [],
   "source": []
  }
 ],
 "metadata": {
  "kernelspec": {
   "display_name": "Python 3 (ipykernel)",
   "language": "python",
   "name": "python3"
  },
  "language_info": {
   "codemirror_mode": {
    "name": "ipython",
    "version": 3
   },
   "file_extension": ".py",
   "mimetype": "text/x-python",
   "name": "python",
   "nbconvert_exporter": "python",
   "pygments_lexer": "ipython3",
   "version": "3.10.9"
  }
 },
 "nbformat": 4,
 "nbformat_minor": 5
}
